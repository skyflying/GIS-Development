{
 "cells": [
  {
   "cell_type": "code",
   "execution_count": 39,
   "id": "74ae427a",
   "metadata": {},
   "outputs": [],
   "source": [
    "import numpy as np\n",
    "from osgeo import osr\n",
    "from osgeo import ogr\n",
    "from osgeo import gdal\n",
    "from ipyleaflet import Map, GeoData, LayersControl\n",
    "import geopandas as gpd\n",
    "import math"
   ]
  },
  {
   "cell_type": "code",
   "execution_count": 40,
   "id": "93135ff8",
   "metadata": {},
   "outputs": [],
   "source": [
    "#Open tif file as select band\n",
    "rasterDs = gdal.Open('G://GIS/GEBCO_2020_22_Jun_2021_0166d46f7a9a/gebco_2020_n60.0_s10.0_w110.0_e150.0.tif')\n",
    "rasterBand = rasterDs.GetRasterBand(1)\n",
    "proj = osr.SpatialReference(wkt=rasterDs.GetProjection())"
   ]
  },
  {
   "cell_type": "code",
   "execution_count": 41,
   "id": "23e0c86f",
   "metadata": {},
   "outputs": [
    {
     "name": "stdout",
     "output_type": "stream",
     "text": [
      "[[408 406 406 408]\n",
      " [417 418 420 420]\n",
      " [420 421 421 419]\n",
      " [422 419 416 411]]\n",
      "Maximun dem elevation: 3757.00, minimum dem elevation: -10952.00\n"
     ]
    }
   ],
   "source": [
    "elevArray = rasterBand.ReadAsArray()\n",
    "print(elevArray[:4,:4])\n",
    "\n",
    "#define not a number\n",
    "demNan = -32768\n",
    "\n",
    "#get dem max and min\n",
    "demMax = elevArray.max()\n",
    "demMin = elevArray[elevArray!=demNan].min()\n",
    "print(\"Maximun dem elevation: %.2f, minimum dem elevation: %.2f\"%(demMax,demMin))"
   ]
  },
  {
   "cell_type": "code",
   "execution_count": 43,
   "id": "cccc992e",
   "metadata": {},
   "outputs": [],
   "source": [
    "contourPath = 'G://GIS/GEBCO_2020_22_Jun_2021_0166d46f7a9a/contours_auto.shp'\n",
    "contourDs = ogr.GetDriverByName(\"ESRI Shapefile\").CreateDataSource(contourPath)\n",
    "\n",
    "\n",
    "contourShp = contourDs.CreateLayer('contour', proj)\n",
    "\n",
    "\n",
    "#define fields of id and elev\n",
    "fieldDef = ogr.FieldDefn(\"ID\", ogr.OFTInteger)\n",
    "contourShp.CreateField(fieldDef)\n",
    "fieldDef = ogr.FieldDefn(\"elev\", ogr.OFTReal)\n",
    "contourShp.CreateField(fieldDef)\n",
    "\n",
    "conNum=10\n",
    "conList =[int(x) for x in np.linspace(math.floor(demMin/1000)*1000,math.floor(demMax/1000)*1000,conNum)]\n",
    "\n",
    "\n",
    "gdal.ContourGenerate(rasterBand, 0, 0, conList, 1, -32768., contourShp, 0, 1)\n",
    "contourDs.Destroy()"
   ]
  },
  {
   "cell_type": "code",
   "execution_count": 44,
   "id": "dcffe64b",
   "metadata": {
    "scrolled": true
   },
   "outputs": [
    {
     "data": {
      "application/vnd.jupyter.widget-view+json": {
       "model_id": "8f4cc956dea6438ca73d34ac2c2b8930",
       "version_major": 2,
       "version_minor": 0
      },
      "text/plain": [
       "Map(center=[25, 123], controls=(ZoomControl(options=['position', 'zoom_in_text', 'zoom_in_title', 'zoom_out_te…"
      ]
     },
     "metadata": {},
     "output_type": "display_data"
    }
   ],
   "source": [
    "map1 = Map(center=(25, 123), zoom=3)\n",
    "\n",
    "contourDf = gpd.read_file('G://GIS/GEBCO_2020_22_Jun_2021_0166d46f7a9a/contoursbyset.shp')\n",
    "contourDfWgs84 = contourDf.to_crs(epsg=4326)\n",
    "\n",
    "geo_data = GeoData(geo_dataframe = contourDfWgs84 )\n",
    "\n",
    "map1.add_layer(geo_data)\n",
    "map1.add_control(LayersControl())\n",
    "\n",
    "map1"
   ]
  },
  {
   "cell_type": "code",
   "execution_count": 19,
   "id": "10d9dfde",
   "metadata": {},
   "outputs": [],
   "source": [
    "contourPath = 'G://GIS/GEBCO_2020_22_Jun_2021_0166d46f7a9a/contoursbyset.shp'\n",
    "contourDs = ogr.GetDriverByName(\"ESRI Shapefile\").CreateDataSource(contourPath)\n",
    "\n",
    "\n",
    "contourShp = contourDs.CreateLayer('contour', proj)\n",
    "\n",
    "\n",
    "#define fields of id and elev\n",
    "fieldDef = ogr.FieldDefn(\"ID\", ogr.OFTInteger)\n",
    "contourShp.CreateField(fieldDef)\n",
    "fieldDef = ogr.FieldDefn(\"elev\", ogr.OFTReal)\n",
    "contourShp.CreateField(fieldDef)\n",
    "\n",
    "\n",
    "conList =[-40000,-30000,-20000,-10000,-5000,-4000,-3000,-2000,-1000,-500,-300,-200,-100,-50,0,50,100,500,1000,2000,3000,4000]\n",
    "\n",
    "\n",
    "gdal.ContourGenerate(rasterBand, 0, 0, conList, 1, -32768., contourShp, 0, 1)\n",
    "contourDs.Destroy()"
   ]
  },
  {
   "cell_type": "code",
   "execution_count": 20,
   "id": "cf769ddb",
   "metadata": {},
   "outputs": [
    {
     "name": "stdout",
     "output_type": "stream",
     "text": [
      "[-40000, -30000, -20000, -10000, -5000, -4000, -3000, -2000, -1000, -500, -300, -200, -100, -50, 0, 50, 100, 500, 1000, 2000, 3000, 4000]\n"
     ]
    }
   ],
   "source": [
    "print(conList)"
   ]
  },
  {
   "cell_type": "code",
   "execution_count": 22,
   "id": "871aa6cf",
   "metadata": {},
   "outputs": [
    {
     "data": {
      "application/vnd.jupyter.widget-view+json": {
       "model_id": "9eb92d586ddc49f4a81e42653f64215a",
       "version_major": 2,
       "version_minor": 0
      },
      "text/plain": [
       "Map(center=[25, 123], controls=(ZoomControl(options=['position', 'zoom_in_text', 'zoom_in_title', 'zoom_out_te…"
      ]
     },
     "metadata": {},
     "output_type": "display_data"
    }
   ],
   "source": [
    "m = Map(center=(25, 123), zoom=3)\n",
    "\n",
    "contourDf = gpd.read_file('G://GIS/GEBCO_2020_22_Jun_2021_0166d46f7a9a/contoursbyset.shp')\n",
    "contourDfWgs84 = contourDf.to_crs(epsg=4326)\n",
    "\n",
    "geo_data = GeoData(geo_dataframe = contourDfWgs84 )\n",
    "\n",
    "m.add_layer(geo_data)\n",
    "m.add_control(LayersControl())\n",
    "\n",
    "m"
   ]
  },
  {
   "cell_type": "code",
   "execution_count": null,
   "id": "e5e16ec9",
   "metadata": {},
   "outputs": [],
   "source": []
  }
 ],
 "metadata": {
  "kernelspec": {
   "display_name": "Python 3",
   "language": "python",
   "name": "python3"
  }
 },
 "nbformat": 4,
 "nbformat_minor": 5
}
