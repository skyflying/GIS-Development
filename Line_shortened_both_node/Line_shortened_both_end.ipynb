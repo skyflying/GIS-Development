{
 "cells": [
  {
   "cell_type": "code",
   "execution_count": 1,
   "id": "c6c8d432-f9c1-4c44-9b1e-5f21e5a82a1a",
   "metadata": {},
   "outputs": [],
   "source": [
    "import geopandas as gpd\n",
    "from shapely.geometry import Point, LineString\n",
    "import os"
   ]
  },
  {
   "cell_type": "code",
   "execution_count": 11,
   "id": "bd07cfba-d767-4853-ba03-7d3b2a5025f2",
   "metadata": {},
   "outputs": [],
   "source": [
    "def read_shp(file_path):\n",
    "    return gpd.read_file(file_path)\n",
    "\n",
    "def extract_endpoints(geodataframe):\n",
    "    endpoints = []\n",
    "    for line in geodataframe.geometry:\n",
    "        if isinstance(line, LineString):\n",
    "            endpoints.append(Point(line.coords[0]))\n",
    "            endpoints.append(Point(line.coords[-1]))\n",
    "    return gpd.GeoDataFrame(geometry=endpoints, crs=geodataframe.crs)\n",
    "\n",
    "def shorten_line(line, distance):\n",
    "    if line.length <= 2 * distance:\n",
    "        return None\n",
    "    start = line.interpolate(distance)\n",
    "    end = line.interpolate(-distance)\n",
    "    new_coords = [start] + list(line.coords[1:-1]) + [end]\n",
    "    return LineString(new_coords)\n",
    "\n",
    "def shorten_lines(geodataframe, distance):\n",
    "    shortened_lines = []\n",
    "    for line in geodataframe.geometry:\n",
    "        if isinstance(line, LineString):\n",
    "            shortened_line = shorten_line(line, distance)\n",
    "            if shortened_line:\n",
    "                shortened_lines.append(shortened_line)\n",
    "    return gpd.GeoDataFrame(geometry=shortened_lines, crs=geodataframe.crs)\n",
    "\n",
    "def main(input_shp, output_endpoints_shp, output_shortened_shp, distance=100):\n",
    "\n",
    "    gdf = read_shp(input_shp)\n",
    "\n",
    "    endpoints_gdf = extract_endpoints(gdf)\n",
    "    endpoints_gdf.to_file(output_endpoints_shp)\n",
    "    \n",
    "    shortened_gdf = shorten_lines(gdf, distance)\n",
    "    shortened_gdf.to_file(output_shortened_shp)"
   ]
  },
  {
   "cell_type": "code",
   "execution_count": 12,
   "id": "a593ddd2-f797-4869-8ee2-c16908ea9c8e",
   "metadata": {},
   "outputs": [],
   "source": [
    "input_shp = 'cable_Test.shp' \n",
    "output_endpoints_shp = 'endpoints.shp'\n",
    "output_shortened_shp = 'shortened_lines.shp'\n",
    "\n",
    "main(input_shp, output_endpoints_shp, output_shortened_shp)"
   ]
  },
  {
   "cell_type": "code",
   "execution_count": null,
   "id": "0a9d364a-f972-4d98-a37d-a72bc3f4f1e5",
   "metadata": {},
   "outputs": [],
   "source": []
  },
  {
   "cell_type": "code",
   "execution_count": null,
   "id": "92070f09-f17d-41db-b7e5-5f0596f88b3a",
   "metadata": {},
   "outputs": [],
   "source": []
  }
 ],
 "metadata": {
  "kernelspec": {
   "display_name": "Python 3 (ipykernel)",
   "language": "python",
   "name": "python3"
  },
  "language_info": {
   "codemirror_mode": {
    "name": "ipython",
    "version": 3
   },
   "file_extension": ".py",
   "mimetype": "text/x-python",
   "name": "python",
   "nbconvert_exporter": "python",
   "pygments_lexer": "ipython3",
   "version": "3.11.7"
  }
 },
 "nbformat": 4,
 "nbformat_minor": 5
}
